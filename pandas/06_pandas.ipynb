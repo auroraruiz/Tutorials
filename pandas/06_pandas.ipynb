{
 "cells": [
  {
   "cell_type": "markdown",
   "id": "45445ac2-ff4e-4ad0-b25b-408db830c909",
   "metadata": {},
   "source": [
    "# Pandas Part 6\n",
    "\n",
    "### Add/Remove Rows and Columns From Dataframes\n",
    "\n",
    "Link: https://youtu.be/HQ6XO9eT-fc?"
   ]
  },
  {
   "cell_type": "code",
   "execution_count": 1,
   "id": "b85b1462-0866-4a1a-878e-0c232831951f",
   "metadata": {},
   "outputs": [],
   "source": [
    "import pandas as pd"
   ]
  },
  {
   "cell_type": "markdown",
   "id": "34e66d49-e94f-4a40-9788-7d523bb22dd6",
   "metadata": {},
   "source": [
    "#### Adding columns"
   ]
  },
  {
   "cell_type": "code",
   "execution_count": 2,
   "id": "c12ab78a-c8ba-4225-8b0f-ebfc6e6ad0e0",
   "metadata": {},
   "outputs": [],
   "source": [
    "people = {\n",
    "    'first': ['John', 'Jane', 'Jim'],\n",
    "    'last': ['Doe', 'Doe', 'Brown'],\n",
    "    'email': ['john.doe@example.com', 'jane.doe@example.com', 'jim.brown@example.com']\n",
    "}"
   ]
  },
  {
   "cell_type": "code",
   "execution_count": 3,
   "id": "3453fb0b-4154-4d56-873e-7f4b52ace7e0",
   "metadata": {
    "scrolled": true
   },
   "outputs": [
    {
     "data": {
      "text/html": [
       "<div>\n",
       "<style scoped>\n",
       "    .dataframe tbody tr th:only-of-type {\n",
       "        vertical-align: middle;\n",
       "    }\n",
       "\n",
       "    .dataframe tbody tr th {\n",
       "        vertical-align: top;\n",
       "    }\n",
       "\n",
       "    .dataframe thead th {\n",
       "        text-align: right;\n",
       "    }\n",
       "</style>\n",
       "<table border=\"1\" class=\"dataframe\">\n",
       "  <thead>\n",
       "    <tr style=\"text-align: right;\">\n",
       "      <th></th>\n",
       "      <th>first</th>\n",
       "      <th>last</th>\n",
       "      <th>email</th>\n",
       "    </tr>\n",
       "  </thead>\n",
       "  <tbody>\n",
       "    <tr>\n",
       "      <th>0</th>\n",
       "      <td>John</td>\n",
       "      <td>Doe</td>\n",
       "      <td>john.doe@example.com</td>\n",
       "    </tr>\n",
       "    <tr>\n",
       "      <th>1</th>\n",
       "      <td>Jane</td>\n",
       "      <td>Doe</td>\n",
       "      <td>jane.doe@example.com</td>\n",
       "    </tr>\n",
       "    <tr>\n",
       "      <th>2</th>\n",
       "      <td>Jim</td>\n",
       "      <td>Brown</td>\n",
       "      <td>jim.brown@example.com</td>\n",
       "    </tr>\n",
       "  </tbody>\n",
       "</table>\n",
       "</div>"
      ],
      "text/plain": [
       "  first   last                  email\n",
       "0  John    Doe   john.doe@example.com\n",
       "1  Jane    Doe   jane.doe@example.com\n",
       "2   Jim  Brown  jim.brown@example.com"
      ]
     },
     "execution_count": 3,
     "metadata": {},
     "output_type": "execute_result"
    }
   ],
   "source": [
    "people_df = pd.DataFrame(people) \n",
    "people_df"
   ]
  },
  {
   "cell_type": "code",
   "execution_count": 4,
   "id": "cd327421-da1e-461b-adf7-c28b18a82d90",
   "metadata": {},
   "outputs": [
    {
     "data": {
      "text/html": [
       "<div>\n",
       "<style scoped>\n",
       "    .dataframe tbody tr th:only-of-type {\n",
       "        vertical-align: middle;\n",
       "    }\n",
       "\n",
       "    .dataframe tbody tr th {\n",
       "        vertical-align: top;\n",
       "    }\n",
       "\n",
       "    .dataframe thead th {\n",
       "        text-align: right;\n",
       "    }\n",
       "</style>\n",
       "<table border=\"1\" class=\"dataframe\">\n",
       "  <thead>\n",
       "    <tr style=\"text-align: right;\">\n",
       "      <th></th>\n",
       "      <th>first</th>\n",
       "      <th>last</th>\n",
       "      <th>email</th>\n",
       "      <th>full_name</th>\n",
       "    </tr>\n",
       "  </thead>\n",
       "  <tbody>\n",
       "    <tr>\n",
       "      <th>0</th>\n",
       "      <td>John</td>\n",
       "      <td>Doe</td>\n",
       "      <td>john.doe@example.com</td>\n",
       "      <td>John Doe</td>\n",
       "    </tr>\n",
       "    <tr>\n",
       "      <th>1</th>\n",
       "      <td>Jane</td>\n",
       "      <td>Doe</td>\n",
       "      <td>jane.doe@example.com</td>\n",
       "      <td>Jane Doe</td>\n",
       "    </tr>\n",
       "    <tr>\n",
       "      <th>2</th>\n",
       "      <td>Jim</td>\n",
       "      <td>Brown</td>\n",
       "      <td>jim.brown@example.com</td>\n",
       "      <td>Jim Brown</td>\n",
       "    </tr>\n",
       "  </tbody>\n",
       "</table>\n",
       "</div>"
      ],
      "text/plain": [
       "  first   last                  email  full_name\n",
       "0  John    Doe   john.doe@example.com   John Doe\n",
       "1  Jane    Doe   jane.doe@example.com   Jane Doe\n",
       "2   Jim  Brown  jim.brown@example.com  Jim Brown"
      ]
     },
     "execution_count": 4,
     "metadata": {},
     "output_type": "execute_result"
    }
   ],
   "source": [
    "people_df['full_name'] = people_df['first'] + ' ' + people_df['last']\n",
    "people_df"
   ]
  },
  {
   "cell_type": "markdown",
   "id": "4b847f68-2ea7-4254-a8a2-3412b1adfb20",
   "metadata": {},
   "source": [
    "#### Removing colums"
   ]
  },
  {
   "cell_type": "code",
   "execution_count": 5,
   "id": "668aafd6-219e-46e5-b5e7-88dc29b483e2",
   "metadata": {},
   "outputs": [
    {
     "data": {
      "text/html": [
       "<div>\n",
       "<style scoped>\n",
       "    .dataframe tbody tr th:only-of-type {\n",
       "        vertical-align: middle;\n",
       "    }\n",
       "\n",
       "    .dataframe tbody tr th {\n",
       "        vertical-align: top;\n",
       "    }\n",
       "\n",
       "    .dataframe thead th {\n",
       "        text-align: right;\n",
       "    }\n",
       "</style>\n",
       "<table border=\"1\" class=\"dataframe\">\n",
       "  <thead>\n",
       "    <tr style=\"text-align: right;\">\n",
       "      <th></th>\n",
       "      <th>email</th>\n",
       "      <th>full_name</th>\n",
       "    </tr>\n",
       "  </thead>\n",
       "  <tbody>\n",
       "    <tr>\n",
       "      <th>0</th>\n",
       "      <td>john.doe@example.com</td>\n",
       "      <td>John Doe</td>\n",
       "    </tr>\n",
       "    <tr>\n",
       "      <th>1</th>\n",
       "      <td>jane.doe@example.com</td>\n",
       "      <td>Jane Doe</td>\n",
       "    </tr>\n",
       "    <tr>\n",
       "      <th>2</th>\n",
       "      <td>jim.brown@example.com</td>\n",
       "      <td>Jim Brown</td>\n",
       "    </tr>\n",
       "  </tbody>\n",
       "</table>\n",
       "</div>"
      ],
      "text/plain": [
       "                   email  full_name\n",
       "0   john.doe@example.com   John Doe\n",
       "1   jane.doe@example.com   Jane Doe\n",
       "2  jim.brown@example.com  Jim Brown"
      ]
     },
     "execution_count": 5,
     "metadata": {},
     "output_type": "execute_result"
    }
   ],
   "source": [
    "people_df.drop(columns=['first', 'last'], inplace = True) \n",
    "people_df"
   ]
  },
  {
   "cell_type": "code",
   "execution_count": 6,
   "id": "a6f5a8a3-90b0-40b9-8b57-49f6efe888ae",
   "metadata": {},
   "outputs": [
    {
     "data": {
      "text/html": [
       "<div>\n",
       "<style scoped>\n",
       "    .dataframe tbody tr th:only-of-type {\n",
       "        vertical-align: middle;\n",
       "    }\n",
       "\n",
       "    .dataframe tbody tr th {\n",
       "        vertical-align: top;\n",
       "    }\n",
       "\n",
       "    .dataframe thead th {\n",
       "        text-align: right;\n",
       "    }\n",
       "</style>\n",
       "<table border=\"1\" class=\"dataframe\">\n",
       "  <thead>\n",
       "    <tr style=\"text-align: right;\">\n",
       "      <th></th>\n",
       "      <th>email</th>\n",
       "      <th>full_name</th>\n",
       "      <th>first</th>\n",
       "      <th>last</th>\n",
       "    </tr>\n",
       "  </thead>\n",
       "  <tbody>\n",
       "    <tr>\n",
       "      <th>0</th>\n",
       "      <td>john.doe@example.com</td>\n",
       "      <td>John Doe</td>\n",
       "      <td>John</td>\n",
       "      <td>Doe</td>\n",
       "    </tr>\n",
       "    <tr>\n",
       "      <th>1</th>\n",
       "      <td>jane.doe@example.com</td>\n",
       "      <td>Jane Doe</td>\n",
       "      <td>Jane</td>\n",
       "      <td>Doe</td>\n",
       "    </tr>\n",
       "    <tr>\n",
       "      <th>2</th>\n",
       "      <td>jim.brown@example.com</td>\n",
       "      <td>Jim Brown</td>\n",
       "      <td>Jim</td>\n",
       "      <td>Brown</td>\n",
       "    </tr>\n",
       "  </tbody>\n",
       "</table>\n",
       "</div>"
      ],
      "text/plain": [
       "                   email  full_name first   last\n",
       "0   john.doe@example.com   John Doe  John    Doe\n",
       "1   jane.doe@example.com   Jane Doe  Jane    Doe\n",
       "2  jim.brown@example.com  Jim Brown   Jim  Brown"
      ]
     },
     "execution_count": 6,
     "metadata": {},
     "output_type": "execute_result"
    }
   ],
   "source": [
    "# The expand argument allows us to return a datframe instead of a series\n",
    "people_df[['first','last']] = people_df['full_name'].str.split(' ', expand = True)\n",
    "people_df"
   ]
  },
  {
   "cell_type": "markdown",
   "id": "2fd08481-195e-435a-b2d4-2e11d508733a",
   "metadata": {},
   "source": [
    "#### Adding rows "
   ]
  },
  {
   "cell_type": "markdown",
   "id": "ef07cd74-9953-4402-9d43-fb1d5eba2015",
   "metadata": {},
   "source": [
    "Explanation from StackOverflow as to why append method was deprecated:\n",
    "\n",
    "_Create a list with your dictionaries, if they are needed, and then create a new dataframe with_\n",
    "\n",
    "```df = pd.DataFrame.from_records(your_list)```\n",
    "\n",
    "_List's \"append\" method are very efficient and won't be ever deprecated. Dataframes on the other hand, frequently have to be recreated and all data copied over on appends, due to their design - that is why they deprecated the method_"
   ]
  },
  {
   "cell_type": "code",
   "execution_count": 7,
   "id": "601c320c-d322-457e-959b-b65a88703346",
   "metadata": {},
   "outputs": [],
   "source": [
    "# Append method is deprecated. Use concat method instead\n",
    "people_df = pd.concat([people_df, pd.DataFrame.from_records([{'first':'Tony'}])],ignore_index=True)\n",
    "people_df.loc[len(people_df), ['first','last']] = 'Mary', 'Jane'\n",
    "people_df.loc[len(people_df), people_df.columns] = 'tess.trig@example.com', 'Tess Trig', 'Tess', 'Trig'"
   ]
  },
  {
   "cell_type": "code",
   "execution_count": 8,
   "id": "9e81c59a-5b50-49ee-a6ea-d9af6e13a858",
   "metadata": {},
   "outputs": [
    {
     "data": {
      "text/html": [
       "<div>\n",
       "<style scoped>\n",
       "    .dataframe tbody tr th:only-of-type {\n",
       "        vertical-align: middle;\n",
       "    }\n",
       "\n",
       "    .dataframe tbody tr th {\n",
       "        vertical-align: top;\n",
       "    }\n",
       "\n",
       "    .dataframe thead th {\n",
       "        text-align: right;\n",
       "    }\n",
       "</style>\n",
       "<table border=\"1\" class=\"dataframe\">\n",
       "  <thead>\n",
       "    <tr style=\"text-align: right;\">\n",
       "      <th></th>\n",
       "      <th>email</th>\n",
       "      <th>full_name</th>\n",
       "      <th>first</th>\n",
       "      <th>last</th>\n",
       "    </tr>\n",
       "  </thead>\n",
       "  <tbody>\n",
       "    <tr>\n",
       "      <th>0</th>\n",
       "      <td>john.doe@example.com</td>\n",
       "      <td>John Doe</td>\n",
       "      <td>John</td>\n",
       "      <td>Doe</td>\n",
       "    </tr>\n",
       "    <tr>\n",
       "      <th>1</th>\n",
       "      <td>jane.doe@example.com</td>\n",
       "      <td>Jane Doe</td>\n",
       "      <td>Jane</td>\n",
       "      <td>Doe</td>\n",
       "    </tr>\n",
       "    <tr>\n",
       "      <th>2</th>\n",
       "      <td>jim.brown@example.com</td>\n",
       "      <td>Jim Brown</td>\n",
       "      <td>Jim</td>\n",
       "      <td>Brown</td>\n",
       "    </tr>\n",
       "    <tr>\n",
       "      <th>3</th>\n",
       "      <td>NaN</td>\n",
       "      <td>NaN</td>\n",
       "      <td>Tony</td>\n",
       "      <td>NaN</td>\n",
       "    </tr>\n",
       "    <tr>\n",
       "      <th>4</th>\n",
       "      <td>NaN</td>\n",
       "      <td>NaN</td>\n",
       "      <td>Mary</td>\n",
       "      <td>Jane</td>\n",
       "    </tr>\n",
       "    <tr>\n",
       "      <th>5</th>\n",
       "      <td>tess.trig@example.com</td>\n",
       "      <td>Tess Trig</td>\n",
       "      <td>Tess</td>\n",
       "      <td>Trig</td>\n",
       "    </tr>\n",
       "  </tbody>\n",
       "</table>\n",
       "</div>"
      ],
      "text/plain": [
       "                   email  full_name first   last\n",
       "0   john.doe@example.com   John Doe  John    Doe\n",
       "1   jane.doe@example.com   Jane Doe  Jane    Doe\n",
       "2  jim.brown@example.com  Jim Brown   Jim  Brown\n",
       "3                    NaN        NaN  Tony    NaN\n",
       "4                    NaN        NaN  Mary   Jane\n",
       "5  tess.trig@example.com  Tess Trig  Tess   Trig"
      ]
     },
     "execution_count": 8,
     "metadata": {},
     "output_type": "execute_result"
    }
   ],
   "source": [
    "people_df"
   ]
  },
  {
   "cell_type": "code",
   "execution_count": 9,
   "id": "05e9664e-1092-49c1-9a0a-f43012fe73a5",
   "metadata": {},
   "outputs": [],
   "source": [
    "avengers = {\n",
    "    'first': ['Tony', 'Steve'],\n",
    "    'last': ['Stark', 'Rogers'],\n",
    "    'email': ['IronMan@avenge.com', 'Cap@avenge.com']\n",
    "}"
   ]
  },
  {
   "cell_type": "code",
   "execution_count": 10,
   "id": "3be365a0-97de-4f35-af3c-c89b0e673c14",
   "metadata": {},
   "outputs": [
    {
     "data": {
      "text/html": [
       "<div>\n",
       "<style scoped>\n",
       "    .dataframe tbody tr th:only-of-type {\n",
       "        vertical-align: middle;\n",
       "    }\n",
       "\n",
       "    .dataframe tbody tr th {\n",
       "        vertical-align: top;\n",
       "    }\n",
       "\n",
       "    .dataframe thead th {\n",
       "        text-align: right;\n",
       "    }\n",
       "</style>\n",
       "<table border=\"1\" class=\"dataframe\">\n",
       "  <thead>\n",
       "    <tr style=\"text-align: right;\">\n",
       "      <th></th>\n",
       "      <th>email</th>\n",
       "      <th>full_name</th>\n",
       "      <th>first</th>\n",
       "      <th>last</th>\n",
       "    </tr>\n",
       "  </thead>\n",
       "  <tbody>\n",
       "    <tr>\n",
       "      <th>0</th>\n",
       "      <td>john.doe@example.com</td>\n",
       "      <td>John Doe</td>\n",
       "      <td>John</td>\n",
       "      <td>Doe</td>\n",
       "    </tr>\n",
       "    <tr>\n",
       "      <th>1</th>\n",
       "      <td>jane.doe@example.com</td>\n",
       "      <td>Jane Doe</td>\n",
       "      <td>Jane</td>\n",
       "      <td>Doe</td>\n",
       "    </tr>\n",
       "    <tr>\n",
       "      <th>2</th>\n",
       "      <td>jim.brown@example.com</td>\n",
       "      <td>Jim Brown</td>\n",
       "      <td>Jim</td>\n",
       "      <td>Brown</td>\n",
       "    </tr>\n",
       "    <tr>\n",
       "      <th>3</th>\n",
       "      <td>NaN</td>\n",
       "      <td>NaN</td>\n",
       "      <td>Tony</td>\n",
       "      <td>NaN</td>\n",
       "    </tr>\n",
       "    <tr>\n",
       "      <th>4</th>\n",
       "      <td>NaN</td>\n",
       "      <td>NaN</td>\n",
       "      <td>Mary</td>\n",
       "      <td>Jane</td>\n",
       "    </tr>\n",
       "    <tr>\n",
       "      <th>5</th>\n",
       "      <td>tess.trig@example.com</td>\n",
       "      <td>Tess Trig</td>\n",
       "      <td>Tess</td>\n",
       "      <td>Trig</td>\n",
       "    </tr>\n",
       "    <tr>\n",
       "      <th>6</th>\n",
       "      <td>IronMan@avenge.com</td>\n",
       "      <td>NaN</td>\n",
       "      <td>Tony</td>\n",
       "      <td>Stark</td>\n",
       "    </tr>\n",
       "    <tr>\n",
       "      <th>7</th>\n",
       "      <td>Cap@avenge.com</td>\n",
       "      <td>NaN</td>\n",
       "      <td>Steve</td>\n",
       "      <td>Rogers</td>\n",
       "    </tr>\n",
       "  </tbody>\n",
       "</table>\n",
       "</div>"
      ],
      "text/plain": [
       "                   email  full_name  first    last\n",
       "0   john.doe@example.com   John Doe   John     Doe\n",
       "1   jane.doe@example.com   Jane Doe   Jane     Doe\n",
       "2  jim.brown@example.com  Jim Brown    Jim   Brown\n",
       "3                    NaN        NaN   Tony     NaN\n",
       "4                    NaN        NaN   Mary    Jane\n",
       "5  tess.trig@example.com  Tess Trig   Tess    Trig\n",
       "6     IronMan@avenge.com        NaN   Tony   Stark\n",
       "7         Cap@avenge.com        NaN  Steve  Rogers"
      ]
     },
     "execution_count": 10,
     "metadata": {},
     "output_type": "execute_result"
    }
   ],
   "source": [
    "people_df = pd.concat([people_df, pd.DataFrame(avengers)], ignore_index=True)\n",
    "people_df"
   ]
  },
  {
   "cell_type": "markdown",
   "id": "e81bd690-1c9d-43b5-bfb7-735879ba9328",
   "metadata": {},
   "source": [
    "#### Remove rows"
   ]
  },
  {
   "cell_type": "code",
   "execution_count": 11,
   "id": "c5a7ef75-5565-4a75-9864-fb640383e8c5",
   "metadata": {
    "scrolled": true
   },
   "outputs": [
    {
     "data": {
      "text/html": [
       "<div>\n",
       "<style scoped>\n",
       "    .dataframe tbody tr th:only-of-type {\n",
       "        vertical-align: middle;\n",
       "    }\n",
       "\n",
       "    .dataframe tbody tr th {\n",
       "        vertical-align: top;\n",
       "    }\n",
       "\n",
       "    .dataframe thead th {\n",
       "        text-align: right;\n",
       "    }\n",
       "</style>\n",
       "<table border=\"1\" class=\"dataframe\">\n",
       "  <thead>\n",
       "    <tr style=\"text-align: right;\">\n",
       "      <th></th>\n",
       "      <th>email</th>\n",
       "      <th>full_name</th>\n",
       "      <th>first</th>\n",
       "      <th>last</th>\n",
       "    </tr>\n",
       "  </thead>\n",
       "  <tbody>\n",
       "    <tr>\n",
       "      <th>0</th>\n",
       "      <td>john.doe@example.com</td>\n",
       "      <td>John Doe</td>\n",
       "      <td>John</td>\n",
       "      <td>Doe</td>\n",
       "    </tr>\n",
       "    <tr>\n",
       "      <th>1</th>\n",
       "      <td>jane.doe@example.com</td>\n",
       "      <td>Jane Doe</td>\n",
       "      <td>Jane</td>\n",
       "      <td>Doe</td>\n",
       "    </tr>\n",
       "    <tr>\n",
       "      <th>2</th>\n",
       "      <td>jim.brown@example.com</td>\n",
       "      <td>Jim Brown</td>\n",
       "      <td>Jim</td>\n",
       "      <td>Brown</td>\n",
       "    </tr>\n",
       "    <tr>\n",
       "      <th>3</th>\n",
       "      <td>IronMan@avenge.com</td>\n",
       "      <td>NaN</td>\n",
       "      <td>Tony</td>\n",
       "      <td>Stark</td>\n",
       "    </tr>\n",
       "    <tr>\n",
       "      <th>4</th>\n",
       "      <td>Cap@avenge.com</td>\n",
       "      <td>NaN</td>\n",
       "      <td>Steve</td>\n",
       "      <td>Rogers</td>\n",
       "    </tr>\n",
       "  </tbody>\n",
       "</table>\n",
       "</div>"
      ],
      "text/plain": [
       "                   email  full_name  first    last\n",
       "0   john.doe@example.com   John Doe   John     Doe\n",
       "1   jane.doe@example.com   Jane Doe   Jane     Doe\n",
       "2  jim.brown@example.com  Jim Brown    Jim   Brown\n",
       "3     IronMan@avenge.com        NaN   Tony   Stark\n",
       "4         Cap@avenge.com        NaN  Steve  Rogers"
      ]
     },
     "execution_count": 11,
     "metadata": {},
     "output_type": "execute_result"
    }
   ],
   "source": [
    "people_df.drop(index=range(3,6), inplace=True)\n",
    "people_df = people_df.reset_index(drop=True) # To reset indexes after the drop\n",
    "people_df"
   ]
  },
  {
   "cell_type": "code",
   "execution_count": 12,
   "id": "73056f94-a058-4340-8745-b1690e7cfcae",
   "metadata": {},
   "outputs": [
    {
     "data": {
      "text/html": [
       "<div>\n",
       "<style scoped>\n",
       "    .dataframe tbody tr th:only-of-type {\n",
       "        vertical-align: middle;\n",
       "    }\n",
       "\n",
       "    .dataframe tbody tr th {\n",
       "        vertical-align: top;\n",
       "    }\n",
       "\n",
       "    .dataframe thead th {\n",
       "        text-align: right;\n",
       "    }\n",
       "</style>\n",
       "<table border=\"1\" class=\"dataframe\">\n",
       "  <thead>\n",
       "    <tr style=\"text-align: right;\">\n",
       "      <th></th>\n",
       "      <th>email</th>\n",
       "      <th>full_name</th>\n",
       "      <th>first</th>\n",
       "      <th>last</th>\n",
       "    </tr>\n",
       "  </thead>\n",
       "  <tbody>\n",
       "    <tr>\n",
       "      <th>2</th>\n",
       "      <td>jim.brown@example.com</td>\n",
       "      <td>Jim Brown</td>\n",
       "      <td>Jim</td>\n",
       "      <td>Brown</td>\n",
       "    </tr>\n",
       "    <tr>\n",
       "      <th>3</th>\n",
       "      <td>IronMan@avenge.com</td>\n",
       "      <td>NaN</td>\n",
       "      <td>Tony</td>\n",
       "      <td>Stark</td>\n",
       "    </tr>\n",
       "    <tr>\n",
       "      <th>4</th>\n",
       "      <td>Cap@avenge.com</td>\n",
       "      <td>NaN</td>\n",
       "      <td>Steve</td>\n",
       "      <td>Rogers</td>\n",
       "    </tr>\n",
       "  </tbody>\n",
       "</table>\n",
       "</div>"
      ],
      "text/plain": [
       "                   email  full_name  first    last\n",
       "2  jim.brown@example.com  Jim Brown    Jim   Brown\n",
       "3     IronMan@avenge.com        NaN   Tony   Stark\n",
       "4         Cap@avenge.com        NaN  Steve  Rogers"
      ]
     },
     "execution_count": 12,
     "metadata": {},
     "output_type": "execute_result"
    }
   ],
   "source": [
    "filt_last = (people_df['last'] == 'Doe')\n",
    "#people_df[filt_last]\n",
    "people_df.drop(index=people_df[filt_last].index)"
   ]
  }
 ],
 "metadata": {
  "kernelspec": {
   "display_name": "Python 3 (ipykernel)",
   "language": "python",
   "name": "python3"
  },
  "language_info": {
   "codemirror_mode": {
    "name": "ipython",
    "version": 3
   },
   "file_extension": ".py",
   "mimetype": "text/x-python",
   "name": "python",
   "nbconvert_exporter": "python",
   "pygments_lexer": "ipython3",
   "version": "3.10.12"
  }
 },
 "nbformat": 4,
 "nbformat_minor": 5
}
